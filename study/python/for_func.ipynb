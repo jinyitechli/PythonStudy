{
 "cells": [
  {
   "cell_type": "code",
   "execution_count": 14,
   "metadata": {},
   "outputs": [
    {
     "name": "stdout",
     "output_type": "stream",
     "text": [
      "* * * * * \n",
      "* * * * * \n",
      "* * * * * \n",
      "* * * * * \n",
      "====================\n",
      "* * * * * \n",
      "*       * \n",
      "*       * \n",
      "* * * * * \n"
     ]
    }
   ],
   "source": [
    "#打印出一个矩形\n",
    "#控制行\n",
    "for i in range(1,5):\n",
    "    #控制列\n",
    "    for j in range(1,6):\n",
    "        print('*',end=\" \")\n",
    "    #当第i行的5列输出完后进行换行\n",
    "    print()\n",
    "# 分割一下输出,用的是字符串乘法    \n",
    "print('='*20)\n",
    "\n",
    "#打印空心矩形\n",
    "for i in range(1,5):\n",
    "    for j in range(1,6):\n",
    "        if i==1 or i==4 or j==1 or j==5:\n",
    "            print(\"*\",end=\" \")\n",
    "        else:\n",
    "            print(' ',end=\" \")\n",
    "        \n",
    "    print()"
   ]
  },
  {
   "cell_type": "code",
   "execution_count": 20,
   "metadata": {},
   "outputs": [
    {
     "name": "stdout",
     "output_type": "stream",
     "text": [
      "* \n",
      "* * \n",
      "* * * \n",
      "* * * * \n",
      "* * * * * \n",
      "====================\n",
      "* \n",
      "* * \n",
      "*   * \n",
      "*     * \n",
      "* * * * * \n"
     ]
    }
   ],
   "source": [
    "# 打印直角三角形\n",
    "#控制行\n",
    "for i in range(1,6):\n",
    "    #控制列,规则是第一行一列,第二行是二列\n",
    "    for j in range(6-i,6):\n",
    "        print('*',end=\" \")\n",
    "    print()\n",
    "    \n",
    "print('='*20)\n",
    "\n",
    "#打印空心三角形\n",
    "for i in range(1,6):\n",
    "    for j in range(6-i,6):\n",
    "        if i==1 or i==5 or j==6-i or j==5:\n",
    "            print('*',end=\" \")\n",
    "        else:\n",
    "            print(' ',end=\" \")\n",
    "    print()"
   ]
  },
  {
   "cell_type": "code",
   "execution_count": 22,
   "metadata": {},
   "outputs": [
    {
     "name": "stdout",
     "output_type": "stream",
     "text": [
      "* * * * * \n",
      "* * * * \n",
      "* * * \n",
      "* * \n",
      "* \n",
      "====================\n",
      "* * * * * \n",
      "*     * \n",
      "*   * \n",
      "* * \n",
      "* \n"
     ]
    }
   ],
   "source": [
    "#控制行\n",
    "for i in range(1,6):\n",
    "    #控制列,规则是第一行五列,第二行是四列列 i=1,j的范围6,i=2,j5\n",
    "    for j in range(1,7-i):\n",
    "        print('*',end=\" \")\n",
    "    print()\n",
    "    \n",
    "print('='*20)\n",
    "\n",
    "for i in range(1,6):\n",
    "    #控制列,规则是第一行五列,第二行是四列列 i=1,j的范围6,i=2,j5\n",
    "    for j in range(1,7-i):\n",
    "        if i==1 or i==5 or j==1 or j==7-i-1:\n",
    "            print('*',end=\" \")\n",
    "        else:\n",
    "            print(' ',end=\" \")\n",
    "    print()"
   ]
  },
  {
   "cell_type": "code",
   "execution_count": 2,
   "metadata": {},
   "outputs": [
    {
     "name": "stdout",
     "output_type": "stream",
     "text": [
      "    * \n",
      "   * * \n",
      "  * * * \n",
      " * * * * \n",
      "* * * * * \n",
      "====================\n",
      "    * \n",
      "   * * \n",
      "  *   * \n",
      " *     * \n",
      "* * * * * \n"
     ]
    }
   ],
   "source": [
    "#控制行\n",
    "for i in range(1,6):\n",
    "    #更改打印起始位置\n",
    "    for k in range(1,6-i):\n",
    "        print(end=\" \")\n",
    "    #控制列,规则是第一行一列,第二行是二列\n",
    "    for j in range(6-i,6):\n",
    "        print('*',end=\" \")\n",
    "    print()\n",
    "    \n",
    "print('='*20)\n",
    "#空心\n",
    "#控制行\n",
    "for i in range(1,6):\n",
    "    #更改打印起始位置\n",
    "    for k in range(1,6-i):\n",
    "        print(end=\" \")\n",
    "    #控制列,规则是第一行一列,第二行是二列\n",
    "    for j in range(6-i,6):\n",
    "        if i==5 or j==6-i or j==5:\n",
    "            print('*',end=\" \")\n",
    "        else:\n",
    "            print(' ',end=\" \")\n",
    "    print()"
   ]
  },
  {
   "cell_type": "code",
   "execution_count": 32,
   "metadata": {},
   "outputs": [
    {
     "name": "stdout",
     "output_type": "stream",
     "text": [
      "    * \n",
      "   * * \n",
      "  * * * \n",
      " *     * \n",
      "*       * \n"
     ]
    }
   ],
   "source": [
    "# 打印字母A\n",
    "#控制行\n",
    "for i in range(1,6):\n",
    "    #更改打印起始位置\n",
    "    for k in range(1,6-i):\n",
    "        print(end=\" \")\n",
    "    #控制列,规则是第一行一列,第二行是二列\n",
    "    for j in range(6-i,6):\n",
    "        if i==1 or i==3 or j==6-i or j==5:\n",
    "            print('*',end=\" \")\n",
    "        else:\n",
    "            print(' ',end=\" \")\n",
    "    print()"
   ]
  },
  {
   "cell_type": "code",
   "execution_count": 45,
   "metadata": {},
   "outputs": [
    {
     "name": "stdout",
     "output_type": "stream",
     "text": [
      "     * \n",
      "    * * \n",
      "   * * * \n",
      "  * * * * \n",
      " * * * * * \n",
      "  * * * * \n",
      "   * * * \n",
      "    * * \n",
      "     * \n",
      "====================\n",
      "     * \n",
      "    * * \n",
      "   *   * \n",
      "  *     * \n",
      " *       * \n",
      "  *     * \n",
      "   *   * \n",
      "    * * \n",
      "     * \n"
     ]
    }
   ],
   "source": [
    "#控制行\n",
    "for i in range(1,5):\n",
    "    #更改打印起始位置\n",
    "    for k in range(1,7-i):\n",
    "        print(end=\" \")\n",
    "    #控制列,规则是第一行一列,第二行是二列\n",
    "    for j in range(6-i,6):\n",
    "        print('*',end=\" \")\n",
    "    print()\n",
    "    \n",
    "for i in range(1,6):\n",
    "    #更改打印起始位置\n",
    "    for k in range(i):\n",
    "        print(end=\" \")\n",
    "    #控制列,规则是第一行一列,第二行是二列\n",
    "    for j in range(6-i):\n",
    "        print('*',end=\" \")\n",
    "    print()\n",
    "    \n",
    "print('='*20)\n",
    "\n",
    "#控制行\n",
    "for i in range(1,5):\n",
    "    #更改打印起始位置\n",
    "    for k in range(1,7-i):\n",
    "        print(end=\" \")\n",
    "    #控制列,规则是第一行一列,第二行是二列\n",
    "    for j in range(6-i,6):\n",
    "        if i==1 or j==6-i or j==5:\n",
    "            print('*',end=\" \")\n",
    "        else:\n",
    "            print(' ',end=\" \")\n",
    "    print()\n",
    "    \n",
    "for i in range(1,6):\n",
    "    #更改打印起始位置\n",
    "    for k in range(i):\n",
    "        print(end=\" \")\n",
    "    #控制列,规则是第一行一列,第二行是二列\n",
    "    for j in range(6-i):\n",
    "        if i==5 or j==0 or j==6-i-1:\n",
    "            print('*',end=\" \")\n",
    "        else:\n",
    "            print(' ',end=\" \")\n",
    "    print()\n",
    "    "
   ]
  },
  {
   "cell_type": "code",
   "execution_count": null,
   "metadata": {
    "collapsed": true
   },
   "outputs": [],
   "source": [
    "#控制行\n",
    "for i in range(1,6):\n",
    "    #更改打印起始位置\n",
    "    for k in range(1,6-i):\n",
    "        print(end=\" \")\n",
    "    #控制列,规则是第一行一列,第二行是二列\n",
    "    for j in range(6-i,9):\n",
    "        print('*',end=\" \")\n",
    "    print()\n",
    "    \n",
    "print('='*20)\n",
    "\n",
    "#控制行\n",
    "for i in range(1,6):\n",
    "    #更改打印起始位置\n",
    "    for k in range(1,6-i):\n",
    "        print(end=\" \")\n",
    "    #控制列,规则是第一行一列,第二行是二列\n",
    "    for j in range(6-i,9):\n",
    "        if i==1 or i==5 or j==6-i or j==8:\n",
    "            print('*',end=\" \")\n",
    "        else:\n",
    "            print(' ',end=\" \")\n",
    "    print()"
   ]
  },
  {
   "cell_type": "code",
   "execution_count": 6,
   "metadata": {},
   "outputs": [
    {
     "name": "stdout",
     "output_type": "stream",
     "text": [
      "输入-1结束\n",
      "请输入实心矩形或实心三角形或空心矩形或空心三角形:空心三角行\n",
      "你是不是傻!看不懂还是咋滴\n",
      "输入-1结束\n",
      "请输入实心矩形或实心三角形或空心矩形或空心三角形:空心三角形\n",
      "* \n",
      "* * \n",
      "*   * \n",
      "*     * \n",
      "* * * * * \n",
      "输入-1结束\n",
      "请输入实心矩形或实心三角形或空心矩形或空心三角形:-1\n"
     ]
    }
   ],
   "source": [
    "while 1:    \n",
    "    #实心矩形\n",
    "    def s_jx():\n",
    "        #控制行\n",
    "        for i in range(1,5):\n",
    "            #控制列\n",
    "            for j in range(1,6):\n",
    "                print('*',end=\" \")\n",
    "            #当第i行的5列输出完后进行换行\n",
    "            print()\n",
    "\n",
    "    #空心矩形\n",
    "    def k_jx():\n",
    "        for i in range(1,5):\n",
    "            for j in range(1,6):\n",
    "                if i==1 or i==4 or j==1 or j==5:\n",
    "                    print(\"*\",end=\" \")\n",
    "                else:\n",
    "                    print(' ',end=\" \")\n",
    "\n",
    "            print()\n",
    "\n",
    "    #正着实心等腰直角三角形\n",
    "    def s_sjx():\n",
    "        #控制行\n",
    "        for i in range(1,6):\n",
    "            #控制列,规则是第一行一列,第二行是二列\n",
    "            for j in range(6-i,6):\n",
    "                print('*',end=\" \")\n",
    "            print()\n",
    "\n",
    "    #正着空心等腰直角三角形\n",
    "    def k_sjx():\n",
    "        for i in range(1,6):\n",
    "            for j in range(6-i,6):\n",
    "                if i==1 or i==5 or j==6-i or j==5:\n",
    "                    print('*',end=\" \")\n",
    "                else:\n",
    "                    print(' ',end=\" \")\n",
    "            print()\n",
    "    print('输入-1结束')\n",
    "    shape = input('请输入实心矩形或实心三角形或空心矩形或空心三角形:')\n",
    "    if shape == '-1':\n",
    "        break\n",
    "    elif shape ==\"实心矩形\":\n",
    "        s_jx()\n",
    "    elif shape ==\"空心矩形\":\n",
    "        k_jx()\n",
    "    elif shape == \"实心三角形\":\n",
    "        s_sjx()\n",
    "    elif shape ==\"空心三角形\":\n",
    "        k_sjx()\n",
    "    else:\n",
    "        print('你是不是傻!看不懂还是咋滴')\n",
    "    \n",
    "\n"
   ]
  },
  {
   "cell_type": "code",
   "execution_count": 15,
   "metadata": {},
   "outputs": [
    {
     "name": "stdout",
     "output_type": "stream",
     "text": [
      "* * \n",
      "*   * \n",
      "*   * \n",
      "* * \n"
     ]
    }
   ],
   "source": [
    "#打印字母D\n",
    "#控制行\n",
    "for m in range(1,5):\n",
    "    # 控制列\n",
    "    for n in range(1,4):\n",
    "        if n==1:\n",
    "            print('*',end=\" \")\n",
    "        elif m==1 or m==4:\n",
    "            if n>2:\n",
    "                break\n",
    "            else:\n",
    "                print(\"*\",end=\" \")\n",
    "        elif n>2:\n",
    "            if m==2 or m==3:\n",
    "                print(\"*\",end=\" \")\n",
    "\n",
    "        else:\n",
    "            print(' ',end=\" \")\n",
    "            \n",
    "    print(\"\")"
   ]
  },
  {
   "cell_type": "code",
   "execution_count": 17,
   "metadata": {},
   "outputs": [
    {
     "name": "stdout",
     "output_type": "stream",
     "text": [
      "* * \n",
      "*   * \n",
      "*   * \n",
      "* * \n",
      "*   * \n",
      "*   * \n",
      "* * \n"
     ]
    }
   ],
   "source": [
    "#字母B\n",
    "#控制行\n",
    "for m in range(1,4):\n",
    "    # 控制列\n",
    "    for n in range(1,4):\n",
    "        if n==1:\n",
    "            print('*',end=\" \")\n",
    "        elif m==1 or m==4:\n",
    "            if n>2:\n",
    "                break\n",
    "            else:\n",
    "                print(\"*\",end=\" \")\n",
    "        elif n>2:\n",
    "            if m==2 or m==3:\n",
    "                print(\"*\",end=\" \")\n",
    "\n",
    "        else:\n",
    "            print(' ',end=\" \")\n",
    "            \n",
    "    print(\"\")\n",
    "#控制行\n",
    "for m in range(1,5):\n",
    "    # 控制列\n",
    "    for n in range(1,4):\n",
    "        if n==1:\n",
    "            print('*',end=\" \")\n",
    "        elif m==1 or m==4:\n",
    "            if n>2:\n",
    "                break\n",
    "            else:\n",
    "                print(\"*\",end=\" \")\n",
    "        elif n>2:\n",
    "            if m==2 or m==3:\n",
    "                print(\"*\",end=\" \")\n",
    "\n",
    "        else:\n",
    "            print(' ',end=\" \")\n",
    "            \n",
    "    print(\"\")"
   ]
  },
  {
   "cell_type": "code",
   "execution_count": 20,
   "metadata": {},
   "outputs": [
    {
     "name": "stdout",
     "output_type": "stream",
     "text": [
      "* * \n",
      "*   * \n",
      "*   * \n",
      "* * \n",
      "*   \n",
      "*   \n"
     ]
    }
   ],
   "source": [
    "#字母P\n",
    "#控制行\n",
    "for m in range(1,7):\n",
    "    # 控制列\n",
    "    for n in range(1,4):\n",
    "        if n==1:\n",
    "            print('*',end=\" \")\n",
    "        elif m==1 or m==4:\n",
    "            if n>2:\n",
    "                break\n",
    "            else:\n",
    "                print(\"*\",end=\" \")\n",
    "        elif n>2:\n",
    "            if m==2 or m==3:\n",
    "                print(\"*\",end=\" \")\n",
    "\n",
    "        else:\n",
    "            print(' ',end=\" \")\n",
    "            \n",
    "    print(\"\")"
   ]
  },
  {
   "cell_type": "code",
   "execution_count": 22,
   "metadata": {},
   "outputs": [
    {
     "name": "stdout",
     "output_type": "stream",
     "text": [
      "* * \n",
      "*   * \n",
      "*   * \n",
      "* * \n",
      "*   * \n"
     ]
    }
   ],
   "source": [
    "#字母R\n",
    "#控制行\n",
    "for m in range(1,6):\n",
    "    # 控制列\n",
    "    for n in range(1,4):\n",
    "        if n==1:\n",
    "            print('*',end=\" \")\n",
    "        elif m==1 or m==4:\n",
    "            if n>2:\n",
    "                break\n",
    "            else:\n",
    "                print(\"*\",end=\" \")\n",
    "        elif n>2:\n",
    "            if m==2 or m==3 or m==5:\n",
    "                print(\"*\",end=\" \")\n",
    "\n",
    "        else:\n",
    "            print(' ',end=\" \")\n",
    "            \n",
    "    print(\"\")"
   ]
  },
  {
   "cell_type": "code",
   "execution_count": null,
   "metadata": {},
   "outputs": [
    {
     "name": "stdout",
     "output_type": "stream",
     "text": [
      "输入-1结束\n",
      "请输入实心矩形或实心三角形或空心矩形或空心三角形:空心三角形\n",
      "这是空心三角形形状\n",
      "* \n",
      "* * \n",
      "*   * \n",
      "*     * \n",
      "* * * * * \n",
      "输入-1结束\n"
     ]
    }
   ],
   "source": [
    "while 1:    \n",
    "    #实心矩形\n",
    "    def s_jx(sjx):\n",
    "        print('这是'+sjx+'形状')\n",
    "        #控制行\n",
    "        for i in range(1,5):\n",
    "            #控制列\n",
    "            for j in range(1,6):\n",
    "                print('*',end=\" \")\n",
    "            #当第i行的5列输出完后进行换行\n",
    "            print()\n",
    "\n",
    "    #空心矩形\n",
    "    def k_jx(kjx):\n",
    "        print('这是'+kjx+'形状')\n",
    "        for i in range(1,5):\n",
    "            for j in range(1,6):\n",
    "                if i==1 or i==4 or j==1 or j==5:\n",
    "                    print(\"*\",end=\" \")\n",
    "                else:\n",
    "                    print(' ',end=\" \")\n",
    "\n",
    "            print()\n",
    "\n",
    "    #正着实心等腰直角三角形\n",
    "    def s_sjx(ssjx):\n",
    "        print('这是'+ssjx+'形状')\n",
    "        #控制行\n",
    "        for i in range(1,6):\n",
    "            #控制列,规则是第一行一列,第二行是二列\n",
    "            for j in range(6-i,6):\n",
    "                print('*',end=\" \")\n",
    "            print()\n",
    "\n",
    "    #正着空心等腰直角三角形\n",
    "    def k_sjx(ksjx):\n",
    "        print('这是'+ksjx+'形状')\n",
    "        for i in range(1,6):\n",
    "            for j in range(6-i,6):\n",
    "                if i==1 or i==5 or j==6-i or j==5:\n",
    "                    print('*',end=\" \")\n",
    "                else:\n",
    "                    print(' ',end=\" \")\n",
    "            print()\n",
    "    print('输入-1结束')\n",
    "    shape = input('请输入实心矩形或实心三角形或空心矩形或空心三角形:')\n",
    "    if shape == '-1':\n",
    "        break\n",
    "    elif shape ==\"实心矩形\":\n",
    "        s_jx(shape)\n",
    "    elif shape ==\"空心矩形\":\n",
    "        k_jx(shape)\n",
    "    elif shape == \"实心三角形\":\n",
    "        s_sjx(shape)\n",
    "    elif shape ==\"空心三角形\":\n",
    "        k_sjx(shape)\n",
    "    else:\n",
    "        print('你是不是傻!看不懂还是咋滴')"
   ]
  },
  {
   "cell_type": "code",
   "execution_count": null,
   "metadata": {
    "collapsed": true
   },
   "outputs": [],
   "source": []
  }
 ],
 "metadata": {
  "kernelspec": {
   "display_name": "Python 3",
   "language": "python",
   "name": "python3"
  },
  "language_info": {
   "codemirror_mode": {
    "name": "ipython",
    "version": 3
   },
   "file_extension": ".py",
   "mimetype": "text/x-python",
   "name": "python",
   "nbconvert_exporter": "python",
   "pygments_lexer": "ipython3",
   "version": "3.6.3"
  }
 },
 "nbformat": 4,
 "nbformat_minor": 2
}
