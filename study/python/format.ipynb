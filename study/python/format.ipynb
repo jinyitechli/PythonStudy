{
 "cells": [
  {
   "cell_type": "markdown",
   "metadata": {},
   "source": [
    "#git使用(上传与下载)\n",
    "1.注册一个git账户,官网:https://github.com/\n",
    "2.登录并创建一个远程仓库\n",
    "3.创建本地仓库\n",
    "-安装对应的git版本\n",
    "-git init 初始化本地仓库\n",
    "-git add . 提交本地所以文件(也可以git add 文件名),提交是把他提交到暂存区\n",
    "-git commit  执行完这条命令的时候才把文件从暂存区提交到本地仓库  -m参数,带说明提交\n",
    "4.配置git\n",
    "-生成私钥 ssh-keygen -t rsa -C \"your_email@youremail.com\"并添加到git中\n",
    "-添加全局环境\n",
    "    git config --global user.name \"your name\"\n",
    "    git config --global user.email \"your_email@youremail.com\"\n",
    "-添加远程地址\n",
    "    git remote add origin git@github.com:yourName/yourRepo.git\n",
    "5.把本地仓库提交到远程仓库中去\n",
    "    git push -u origin master\n",
    "\n",
    "下载别人代码\n",
    "git clone 远程仓库地址\n",
    "直接下载压缩包"
   ]
  },
  {
   "cell_type": "code",
   "execution_count": 1,
   "metadata": {},
   "outputs": [
    {
     "name": "stdout",
     "output_type": "stream",
     "text": [
      "我的身高是175cm,体重是60kg\n"
     ]
    }
   ],
   "source": [
    "# format格式化字符串\n",
    "#1.位置参数\n",
    "#非关键字参数\n",
    "str1 = \"我的身高是{},体重是{}\"\n",
    "res = str1.format('175cm','60kg')\n",
    "print(res)"
   ]
  },
  {
   "cell_type": "code",
   "execution_count": 2,
   "metadata": {},
   "outputs": [
    {
     "name": "stdout",
     "output_type": "stream",
     "text": [
      "我的身高是175cm,体重是60kg,175cm是今天测得\n"
     ]
    }
   ],
   "source": [
    "#多次利用参数\n",
    "str1 = \"我的身高是{0},体重是{1},{0}是今天测得\"\n",
    "res = str1.format('175cm','60kg')\n",
    "print(res)"
   ]
  },
  {
   "cell_type": "code",
   "execution_count": 3,
   "metadata": {},
   "outputs": [
    {
     "name": "stdout",
     "output_type": "stream",
     "text": [
      "我的身高是175cm,体重是60kg\n"
     ]
    }
   ],
   "source": [
    "#关键字参数\n",
    "str1 = \"我的身高是{height},体重是{weight}\"\n",
    "res = str1.format(height='175cm',weight='60kg')\n",
    "print(res)"
   ]
  },
  {
   "cell_type": "code",
   "execution_count": 6,
   "metadata": {},
   "outputs": [
    {
     "name": "stdout",
     "output_type": "stream",
     "text": [
      "我的身高是175cm,体重是60kg\n"
     ]
    }
   ],
   "source": [
    "#2.通过下标\n",
    "str1 = \"我的身高是{0[0]},体重是{0[1]}\"\n",
    "#format函数里面传入的是可迭代对象,例如列表,元组,字典\n",
    "res = str1.format(['175cm','60kg'])\n",
    "print(res)"
   ]
  },
  {
   "cell_type": "code",
   "execution_count": 8,
   "metadata": {},
   "outputs": [
    {
     "name": "stdout",
     "output_type": "stream",
     "text": [
      "我的身高是175cm,体重是60kg\n"
     ]
    }
   ],
   "source": [
    "str1 = \"我的身高是{0[h]},体重是{0[w]}\"\n",
    "#format函数里传入字典\n",
    "dict1 = {'h':'175cm','w':'60kg'}\n",
    "res = str1.format({'h':'175cm','w':'60kg'})\n",
    "#等价于 res = str1.format(dict1) \n",
    "print(res)"
   ]
  },
  {
   "cell_type": "code",
   "execution_count": 11,
   "metadata": {},
   "outputs": [
    {
     "name": "stdout",
     "output_type": "stream",
     "text": [
      "我知道π的值是3.14\n"
     ]
    }
   ],
   "source": [
    "#3.格式限定符\n",
    "\n",
    "# 限制小数点后多少位\n",
    "res = '我知道π的值是{:0.2f}'.format(3.1415926)\n",
    "print(res)"
   ]
  },
  {
   "cell_type": "code",
   "execution_count": 14,
   "metadata": {},
   "outputs": [
    {
     "name": "stdout",
     "output_type": "stream",
     "text": [
      "10的二进制是1010\n",
      "10的八进制是12\n",
      "10的十六进制是a\n",
      "10的十进制是10\n"
     ]
    }
   ],
   "source": [
    "# 进制输出\n",
    "res = '10的二进制是{:b}'.format(10)\n",
    "print(res)\n",
    "res = '10的八进制是{:o}'.format(10)\n",
    "print(res)\n",
    "res = '10的十六进制是{:x}'.format(10)\n",
    "print(res)\n",
    "res = '10的十进制是{:d}'.format(10)\n",
    "print(res)"
   ]
  },
  {
   "cell_type": "code",
   "execution_count": 17,
   "metadata": {},
   "outputs": [
    {
     "name": "stdout",
     "output_type": "stream",
     "text": [
      "100000000000\n",
      "我值9,000,000,000,000,000,000多钱\n"
     ]
    }
   ],
   "source": [
    "# 金融格式化\n",
    "print(100000000000)\n",
    "res = '我值{:,}多钱'.format(9000000000000000000)\n",
    "print(res)"
   ]
  },
  {
   "cell_type": "code",
   "execution_count": 19,
   "metadata": {},
   "outputs": [
    {
     "name": "stdout",
     "output_type": "stream",
     "text": [
      "haha     123\n",
      "haha*****123\n"
     ]
    }
   ],
   "source": [
    "# 填充对齐  <左对齐  >右对齐  ^居中\n",
    "res = 'haha{:>8}'.format(123)\n",
    "print(res)\n",
    "res = 'haha{:*>8}'.format(123)\n",
    "print(res)"
   ]
  },
  {
   "cell_type": "code",
   "execution_count": 38,
   "metadata": {},
   "outputs": [
    {
     "name": "stdout",
     "output_type": "stream",
     "text": [
      "请输入行数:4\n",
      "请输入列数:6\n",
      "* * * * * * \n",
      "* * * * * * \n",
      "* * * * * * \n",
      "* * * * * * \n"
     ]
    }
   ],
   "source": [
    "#打印一个矩形\n",
    "row = input(\"请输入行数:\")\n",
    "lie = input(\"请输入列数:\")\n",
    "# 这个循环控制行\n",
    "for i in range(int(row)):\n",
    "    #这个循环控制列\n",
    "    for j in range(int(lie)):\n",
    "        \n",
    "        print('*',end=\" \")\n",
    "    print('')"
   ]
  },
  {
   "cell_type": "code",
   "execution_count": 42,
   "metadata": {},
   "outputs": [
    {
     "name": "stdout",
     "output_type": "stream",
     "text": [
      "请输入行数:6\n",
      "\n",
      "* \n",
      "* * \n",
      "* * * \n",
      "* * * * \n",
      "* * * * * \n"
     ]
    }
   ],
   "source": [
    "#打印一个直角三角形\n",
    "row = input(\"请输入行数:\")\n",
    "# 控制行\n",
    "for m in range(int(row)):\n",
    "    #控制列的\n",
    "    for n in range(int(row)-m,int(row)):\n",
    "        print('*',end=\" \")\n",
    "    print('')"
   ]
  },
  {
   "cell_type": "code",
   "execution_count": 52,
   "metadata": {},
   "outputs": [
    {
     "name": "stdout",
     "output_type": "stream",
     "text": [
      "1X9=9  \n",
      "2X8=16 2X9=18 \n",
      "3X7=21 3X8=24 3X9=27 \n",
      "4X6=24 4X7=28 4X8=32 4X9=36 \n",
      "5X5=25 5X6=30 5X7=35 5X8=40 5X9=45 \n",
      "6X4=24 6X5=30 6X6=36 6X7=42 6X8=48 6X9=54 \n",
      "7X3=21 7X4=28 7X5=35 7X6=42 7X7=49 7X8=56 7X9=63 \n",
      "8X2=16 8X3=24 8X4=32 8X5=40 8X6=48 8X7=56 8X8=64 8X9=72 \n",
      "9X1=9  9X2=18 9X3=27 9X4=36 9X5=45 9X6=54 9X7=63 9X8=72 9X9=81 \n"
     ]
    }
   ],
   "source": [
    "# 根据直角三角形可以改装成九九乘法表\n",
    "for m in range(1,10):\n",
    "    #控制列的\n",
    "    for n in range(10-m,10):\n",
    "    #for n in range(1,m+1):\n",
    "        print(\"%dX%d=%-2d\"%(m,n,m*n),end=\" \")\n",
    "    print('')"
   ]
  },
  {
   "cell_type": "code",
   "execution_count": 53,
   "metadata": {},
   "outputs": [
    {
     "name": "stdout",
     "output_type": "stream",
     "text": [
      "1X1=1  \n",
      "2X1=2  2X2=4  \n",
      "3X1=3  3X2=6  3X3=9  \n",
      "4X1=4  4X2=8  4X3=12 4X4=16 \n",
      "5X1=5  5X2=10 5X3=15 5X4=20 5X5=25 \n",
      "6X1=6  6X2=12 6X3=18 6X4=24 6X5=30 6X6=36 \n",
      "7X1=7  7X2=14 7X3=21 7X4=28 7X5=35 7X6=42 7X7=49 \n",
      "8X1=8  8X2=16 8X3=24 8X4=32 8X5=40 8X6=48 8X7=56 8X8=64 \n",
      "9X1=9  9X2=18 9X3=27 9X4=36 9X5=45 9X6=54 9X7=63 9X8=72 9X9=81 \n"
     ]
    }
   ],
   "source": [
    "for m in range(1,10):\n",
    "    #控制列的\n",
    "    #for n in range(10-m,10):\n",
    "    for n in range(1,m+1):\n",
    "        print(\"%dX%d=%-2d\"%(m,n,m*n),end=\" \")\n",
    "    print('')"
   ]
  },
  {
   "cell_type": "code",
   "execution_count": null,
   "metadata": {
    "collapsed": true
   },
   "outputs": [],
   "source": []
  }
 ],
 "metadata": {
  "kernelspec": {
   "display_name": "Python 3",
   "language": "python",
   "name": "python3"
  },
  "language_info": {
   "codemirror_mode": {
    "name": "ipython",
    "version": 3
   },
   "file_extension": ".py",
   "mimetype": "text/x-python",
   "name": "python",
   "nbconvert_exporter": "python",
   "pygments_lexer": "ipython3",
   "version": "3.6.3"
  }
 },
 "nbformat": 4,
 "nbformat_minor": 2
}
