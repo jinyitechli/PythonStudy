{
 "cells": [
  {
   "cell_type": "code",
   "execution_count": 3,
   "metadata": {},
   "outputs": [
    {
     "name": "stdout",
     "output_type": "stream",
     "text": [
      "$3\n",
      "$2\n",
      "$1\n",
      "$0\n",
      "====================\n",
      "0\n",
      "1\n",
      "2\n",
      "3\n"
     ]
    }
   ],
   "source": [
    "# 类似与栈的先进后出模式\n",
    "# 递归的两个必要条件\n",
    "# 1.要有递推关系\n",
    "# 2.要有临界\n",
    "def digui(num):\n",
    "    print('$'+str(num))\n",
    "    # 临界值\n",
    "    if num >0:\n",
    "        # 这里用的是调用本身的函数\n",
    "        digui(num-1)\n",
    "    else:\n",
    "        print('='*20)\n",
    "    print(num)\n",
    "    \n",
    "digui(3)"
   ]
  },
  {
   "cell_type": "code",
   "execution_count": 2,
   "metadata": {},
   "outputs": [
    {
     "name": "stdout",
     "output_type": "stream",
     "text": [
      "移动第 1 次 A --> B\n",
      "移动第 2 次 A --> C\n",
      "移动第 3 次 B --> C\n",
      "移动第 4 次 A --> B\n",
      "移动第 5 次 C --> A\n",
      "移动第 6 次 C --> B\n",
      "移动第 7 次 A --> B\n",
      "移动第 8 次 A --> C\n",
      "移动第 9 次 B --> C\n",
      "移动第 10 次 B --> A\n",
      "移动第 11 次 C --> A\n",
      "移动第 12 次 B --> C\n",
      "移动第 13 次 A --> B\n",
      "移动第 14 次 A --> C\n",
      "移动第 15 次 B --> C\n"
     ]
    }
   ],
   "source": [
    "#----------------汉诺塔-----------------#\n",
    "# 如果有n个圆盘,所需移动的步数为 2^n-1\n",
    "\n",
    "i = 0\n",
    "# 定义一个函数给4个参数n是圆盘的个数,a代表A柱子,b,c 函数里面的是形式参数\n",
    "def move(n,a,b,c):\n",
    "    # 把变量i全局化,如果不全局化,只可访问读取不能进行操作修改\n",
    "    global i\n",
    "    if n==1:\n",
    "        i += 1\n",
    "        print('移动第',i,'次',a,'-->',c)\n",
    "    else:\n",
    "        # 1.把A柱上n-1个圆盘移动到B柱上\n",
    "        move(n-1,a,c,b) # 传的才是实际参数\n",
    "        # 2.把A柱上最大的移动到C柱子上\n",
    "        move(1,a,b,c)\n",
    "        # 3.把B柱子上n-1个圆盘移动到C柱子上\n",
    "        move(n-1,b,a,c)\n",
    "\n",
    "        \n",
    "move(4,'A','B','C')"
   ]
  },
  {
   "cell_type": "code",
   "execution_count": 24,
   "metadata": {},
   "outputs": [
    {
     "name": "stdout",
     "output_type": "stream",
     "text": [
      "1\n"
     ]
    }
   ],
   "source": [
    "i = 0\n",
    "def a():\n",
    "    global i\n",
    "    i += 1\n",
    "    print(i)\n",
    "\n",
    "a()"
   ]
  },
  {
   "cell_type": "code",
   "execution_count": null,
   "metadata": {
    "collapsed": true
   },
   "outputs": [],
   "source": []
  }
 ],
 "metadata": {
  "kernelspec": {
   "display_name": "Python 3",
   "language": "python",
   "name": "python3"
  },
  "language_info": {
   "codemirror_mode": {
    "name": "ipython",
    "version": 3
   },
   "file_extension": ".py",
   "mimetype": "text/x-python",
   "name": "python",
   "nbconvert_exporter": "python",
   "pygments_lexer": "ipython3",
   "version": "3.6.3"
  }
 },
 "nbformat": 4,
 "nbformat_minor": 2
}
