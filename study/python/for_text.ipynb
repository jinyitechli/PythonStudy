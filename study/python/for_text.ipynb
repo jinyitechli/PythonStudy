{
 "cells": [
  {
   "cell_type": "code",
   "execution_count": 12,
   "metadata": {},
   "outputs": [
    {
     "name": "stdout",
     "output_type": "stream",
     "text": [
      "* * * * * \n",
      "* * * * * \n",
      "* * * * * \n",
      "* * * * * \n",
      "====================\n",
      "* * * * * \n",
      "*       * \n",
      "*       * \n",
      "* * * * * \n"
     ]
    }
   ],
   "source": [
    "#控制行\n",
    "for m in range(0,4):\n",
    "    #控制列\n",
    "    for n in range(0,5):\n",
    "        print('*',end = \" \")\n",
    "\n",
    "    print(\"\")\n",
    "print('='*20)    \n",
    "for m in range(4):\n",
    "    for n in range(5):\n",
    "        if m==0 or m==3 or n==0 or n==4:\n",
    "            print('*',end=\" \")\n",
    "        else:\n",
    "            print(' ',end=\" \")\n",
    "            \n",
    "    print(\"\")"
   ]
  },
  {
   "cell_type": "code",
   "execution_count": 19,
   "metadata": {},
   "outputs": [
    {
     "name": "stdout",
     "output_type": "stream",
     "text": [
      "     \n",
      "    * \n",
      "   * * \n",
      "  * * * \n",
      " * * * * \n",
      "* * * * * \n",
      " * * * * \n",
      "  * * * \n",
      "   * * \n",
      "    * \n"
     ]
    }
   ],
   "source": [
    "for i in range(5):\n",
    "    for j in range(0, 5 - i):\n",
    "        print(end=\" \")\n",
    "        #print('$')\n",
    "    for k in range(5 - i, 5):\n",
    "        print(\"*\", end=\" \")\n",
    "        #print('%')\n",
    "\n",
    "    print(\"\")\n",
    "   \n",
    "for i in range(5):\n",
    "    for j in range(i):\n",
    "        print(end=\" \")\n",
    "        #print('$')\n",
    "    for k in range(5,10-i):\n",
    "        print(\"*\", end=\" \")\n",
    "        #print('%')\n",
    "\n",
    "    print(\"\")\n"
   ]
  },
  {
   "cell_type": "code",
   "execution_count": 18,
   "metadata": {},
   "outputs": [
    {
     "name": "stdout",
     "output_type": "stream",
     "text": [
      "     * * * * \n",
      "    * * * * * \n",
      "   * * * * * * \n",
      "  * * * * * * * \n",
      " * * * * * * * * \n",
      "====================\n",
      "     * * * * \n",
      "    *       * \n",
      "   *         * \n",
      "  *           * \n",
      " * * * * * * * * \n"
     ]
    }
   ],
   "source": [
    "for i in range(5):\n",
    "    for j in range(0, 5 - i):\n",
    "    #for j in range(5 - i,5):\n",
    "        print(end=\" \")\n",
    "        \n",
    "    for k in range(5 - i,9):\n",
    "        print(\"*\",end=\" \")\n",
    "\n",
    "    print(\"\")\n",
    "    \n",
    "print('='*20)\n",
    "\n",
    "for i in range(5):\n",
    "    for j in range(0, 5 - i):\n",
    "        print(end=\" \")\n",
    "        \n",
    "    for k in range(5 - i,9):\n",
    "        if i==0 or i==4 or k==5-i or k==8:\n",
    "            print(\"*\",end=\" \")\n",
    "        else:\n",
    "            print(' ',end=\" \")\n",
    "\n",
    "    print(\"\")"
   ]
  },
  {
   "cell_type": "code",
   "execution_count": 4,
   "metadata": {},
   "outputs": [
    {
     "name": "stdout",
     "output_type": "stream",
     "text": [
      "     * \n",
      "    * * \n",
      "   * * * \n",
      "  * * * * \n",
      " * * * * * \n",
      "====================\n",
      "     * \n",
      "    * * \n",
      "   *   * \n",
      "  *     * \n",
      " * * * * * \n"
     ]
    }
   ],
   "source": [
    "for i in range(5):\n",
    "    for j in range(0, 5 - i):\n",
    "        print(end=\" \")\n",
    "    for k in range(5 - i, 6):\n",
    "        print(\"*\", end=\" \")\n",
    "\n",
    "    print()\n",
    "print(\"=\"*20)\n",
    "\n",
    "for i in range(5):\n",
    "    for j in range(0, 5 - i):\n",
    "        print(end=\" \")\n",
    "    for k in range(5 - i, 6):\n",
    "        if i==0 or k==5-i or i==4 or k==5:\n",
    "            print(\"*\", end=\" \")\n",
    "        else:\n",
    "            print(' ',end=\" \")\n",
    "\n",
    "    print()"
   ]
  },
  {
   "cell_type": "code",
   "execution_count": 22,
   "metadata": {},
   "outputs": [
    {
     "name": "stdout",
     "output_type": "stream",
     "text": [
      "* \n",
      "* * \n",
      "* * * \n",
      "* * * * \n",
      "* * * * * \n",
      "--------------------\n",
      "          * \n",
      "        * * \n",
      "      * * * \n",
      "    * * * * \n",
      "  * * * * * \n",
      "====================\n",
      "* \n",
      "* * \n",
      "*   * \n",
      "*     * \n",
      "* * * * * \n"
     ]
    }
   ],
   "source": [
    "for i in range(5):\n",
    "    for k in range(5 - i, 6):\n",
    "        print(\"*\", end=\" \")\n",
    "\n",
    "    print()\n",
    "    \n",
    "print('-'*20)\n",
    "\n",
    "for i in range(5):\n",
    "    for j in range(0, 5 - i):\n",
    "        print(end=\"  \")\n",
    "    for k in range(5 - i, 6):\n",
    "        print(\"*\", end=\" \")\n",
    "\n",
    "    print()\n",
    "    \n",
    "print('='*20) \n",
    "\n",
    "for i in range(5):\n",
    "    for k in range(5 - i,6):\n",
    "        if i==0 or i==4 or k==5-i or k==5:\n",
    "            print(\"*\", end=\" \")\n",
    "        else:\n",
    "            print(' ',end=\" \")\n",
    "\n",
    "    print()"
   ]
  },
  {
   "cell_type": "code",
   "execution_count": 33,
   "metadata": {},
   "outputs": [
    {
     "name": "stdout",
     "output_type": "stream",
     "text": [
      "* * * * * \n",
      "* * * * \n",
      "* * * \n",
      "* * \n",
      "* \n",
      "====================\n",
      "* * * * * \n",
      "*     * \n",
      "*   * \n",
      "* * \n",
      "* \n"
     ]
    }
   ],
   "source": [
    "for i in range(5):\n",
    "    for k in range(5 - i):\n",
    "        print(\"*\",end=\" \")\n",
    "        \n",
    "    print(\"\")\n",
    "print('='*20) \n",
    "\n",
    "for i in range(5):\n",
    "    for k in range(5 - i):\n",
    "        if i==0 or i==4 or k==0 or k==4-i:\n",
    "            print(\"*\", end=\" \")\n",
    "        else:\n",
    "            print(' ',end=\" \")\n",
    "\n",
    "    print()"
   ]
  },
  {
   "cell_type": "code",
   "execution_count": 9,
   "metadata": {},
   "outputs": [
    {
     "name": "stdout",
     "output_type": "stream",
     "text": [
      "请输入大写字母:a\n",
      "     * \n",
      "    * * \n",
      "   * * * \n",
      "  *     * \n",
      " *       * \n"
     ]
    }
   ],
   "source": [
    "def a():\n",
    "    for i in range(5):\n",
    "        for j in range(0, 5 - i):\n",
    "            print(end=\" \")\n",
    "        for k in range(5 - i, 6):\n",
    "            if i==0 or k==5-i or i==2 or k==5:\n",
    "                print(\"*\", end=\" \")\n",
    "            else:\n",
    "                print(' ',end=\" \")\n",
    "\n",
    "        print()\n",
    "\n",
    "input('请输入大写字母:')\n",
    "a()"
   ]
  },
  {
   "cell_type": "code",
   "execution_count": 22,
   "metadata": {},
   "outputs": [
    {
     "name": "stdout",
     "output_type": "stream",
     "text": [
      "* * \n",
      "*   * \n",
      "*   * \n",
      "* * \n"
     ]
    }
   ],
   "source": [
    "for m in range(4):\n",
    "    for n in range(3):\n",
    "        if n==0:\n",
    "            print('*',end=\" \")          \n",
    "        elif m==0 or m==3:\n",
    "            if n==2:\n",
    "                break\n",
    "            else:\n",
    "                print('*',end=\" \")\n",
    "        elif n==2:\n",
    "            if m==0 or m==3:\n",
    "                break\n",
    "            else:\n",
    "                print('*',end=\" \")\n",
    "        else:\n",
    "            print(' ',end=\" \")\n",
    "            \n",
    "    print(\"\")"
   ]
  },
  {
   "cell_type": "code",
   "execution_count": 23,
   "metadata": {},
   "outputs": [
    {
     "name": "stdout",
     "output_type": "stream",
     "text": [
      "* * \n",
      "*   *   \n",
      "*   *   \n",
      "* * \n",
      "*   *   \n"
     ]
    }
   ],
   "source": [
    "for m in range(5):\n",
    "    for n in range(4):\n",
    "        if n==0:\n",
    "            print('*',end=\" \")          \n",
    "        elif m==0 or m==3:\n",
    "            if n==2:\n",
    "                break\n",
    "            else:\n",
    "                print('*',end=\" \")\n",
    "        elif n==2:\n",
    "            if m==0 or m==3:\n",
    "                break\n",
    "            else:\n",
    "                print('*',end=\" \")\n",
    "        else:\n",
    "            print(' ',end=\" \")\n",
    "            \n",
    "    print(\"\")"
   ]
  },
  {
   "cell_type": "code",
   "execution_count": 25,
   "metadata": {},
   "outputs": [
    {
     "name": "stdout",
     "output_type": "stream",
     "text": [
      "* * \n",
      "*   * \n",
      "*   * \n",
      "* * \n",
      "*   * \n",
      "*   * \n",
      "* * \n"
     ]
    }
   ],
   "source": [
    "for m in range(3):\n",
    "    for n in range(3):\n",
    "        if n==0:\n",
    "            print('*',end=\" \")          \n",
    "        elif m==0 or m==3:\n",
    "            if n==2:\n",
    "                break\n",
    "            else:\n",
    "                print('*',end=\" \")\n",
    "        elif n==2:\n",
    "            if m==0 or m==3:\n",
    "                break\n",
    "            else:\n",
    "                print('*',end=\" \")\n",
    "        else:\n",
    "            print(' ',end=\" \")\n",
    "            \n",
    "    print(\"\")\n",
    "for m in range(4):\n",
    "    for n in range(3):\n",
    "        if n==0:\n",
    "            print('*',end=\" \")          \n",
    "        elif m==0 or m==3:\n",
    "            if n==2:\n",
    "                break\n",
    "            else:\n",
    "                print('*',end=\" \")\n",
    "        elif n==2:\n",
    "            if m==0 or m==3:\n",
    "                break\n",
    "            else:\n",
    "                print('*',end=\" \")\n",
    "        else:\n",
    "            print(' ',end=\" \")\n",
    "            \n",
    "    print(\"\")"
   ]
  },
  {
   "cell_type": "code",
   "execution_count": 8,
   "metadata": {},
   "outputs": [
    {
     "name": "stdout",
     "output_type": "stream",
     "text": [
      "* * \n",
      "*   * \n",
      "*   * \n",
      "* * \n"
     ]
    }
   ],
   "source": [
    "for m in range(4):\n",
    "    for n in range(3):\n",
    "        if n==0:\n",
    "            print('*',end=\" \")        \n",
    "        elif m==0 or m==3:\n",
    "            if n==2:\n",
    "                break\n",
    "            else:\n",
    "                print('*',end=\" \")\n",
    "        elif n==2:\n",
    "            if m==0 or m==3:\n",
    "                break\n",
    "            else:\n",
    "                print('*',end=\" \")\n",
    "        else:\n",
    "            print(' ',end=\" \")\n",
    "            \n",
    "    print(\"\")"
   ]
  },
  {
   "cell_type": "code",
   "execution_count": 15,
   "metadata": {},
   "outputs": [
    {
     "name": "stdout",
     "output_type": "stream",
     "text": [
      "     \n",
      "    * \n",
      "   * * \n",
      "  *   * \n",
      " *     * \n",
      "*       * \n",
      " *     * \n",
      "  *   * \n",
      "   * * \n",
      "    * \n"
     ]
    }
   ],
   "source": [
    "for i in range(5):\n",
    "    for j in range(0, 5 - i):\n",
    "        print(end=\" \")\n",
    "    for k in range(5 - i, 5):\n",
    "        if i==0 or k==5-i or k==4:\n",
    "            print(\"*\", end=\" \")\n",
    "        else:\n",
    "            print(' ',end=\" \")\n",
    "\n",
    "    print()\n",
    "    \n",
    "for i in range(5):\n",
    "    for j in range(i):\n",
    "        print(end=\" \")\n",
    "    for k in range(5-i):\n",
    "        if k==4-i or i==4 or k==0:\n",
    "            print(\"*\", end=\" \")\n",
    "        else:\n",
    "            print(' ',end=\" \")\n",
    "    print()\n",
    "    "
   ]
  },
  {
   "cell_type": "code",
   "execution_count": null,
   "metadata": {
    "collapsed": true
   },
   "outputs": [],
   "source": []
  },
  {
   "cell_type": "code",
   "execution_count": null,
   "metadata": {
    "collapsed": true
   },
   "outputs": [],
   "source": []
  }
 ],
 "metadata": {
  "kernelspec": {
   "display_name": "Python 3",
   "language": "python",
   "name": "python3"
  },
  "language_info": {
   "codemirror_mode": {
    "name": "ipython",
    "version": 3
   },
   "file_extension": ".py",
   "mimetype": "text/x-python",
   "name": "python",
   "nbconvert_exporter": "python",
   "pygments_lexer": "ipython3",
   "version": "3.6.3"
  }
 },
 "nbformat": 4,
 "nbformat_minor": 2
}
