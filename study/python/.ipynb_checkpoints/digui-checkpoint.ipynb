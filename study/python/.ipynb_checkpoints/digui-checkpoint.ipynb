{
 "cells": [
  {
   "cell_type": "code",
   "execution_count": 3,
   "metadata": {},
   "outputs": [
    {
     "name": "stdout",
     "output_type": "stream",
     "text": [
      "$3\n",
      "$2\n",
      "$1\n",
      "$0\n",
      "====================\n",
      "0\n",
      "1\n",
      "2\n",
      "3\n"
     ]
    }
   ],
   "source": [
    "# 类似与栈的先进后出模式\n",
    "# 1.要有递推关系\n",
    "# 2.要有临界\n",
    "def digui(num):\n",
    "    print('$'+str(num))\n",
    "    # 临界值\n",
    "    if num >0:\n",
    "        # 这里用的是调用本身的函数\n",
    "        digui(num-1)\n",
    "    else:\n",
    "        print('='*20)\n",
    "    print(num)\n",
    "    \n",
    "digui(3)"
   ]
  },
  {
   "cell_type": "code",
   "execution_count": 25,
   "metadata": {},
   "outputs": [
    {
     "name": "stdout",
     "output_type": "stream",
     "text": [
      "移动第 1 次 A --> C\n",
      "移动第 2 次 A --> B\n",
      "移动第 3 次 C --> B\n",
      "移动第 4 次 A --> C\n",
      "移动第 5 次 B --> A\n",
      "移动第 6 次 B --> C\n",
      "移动第 7 次 A --> C\n"
     ]
    }
   ],
   "source": [
    "#3个   7步\n",
    "# 2^n-1\n",
    "i = 0\n",
    "# 定义一个函数给4个参数n是圆盘的个数,a代表A柱子,b,c 函数里面的是形式参数\n",
    "def move(n,a,b,c):\n",
    "    # 把变量i全局化\n",
    "    global i\n",
    "    if n==1:\n",
    "        i += 1\n",
    "        print('移动第',i,'次',a,'-->',c)\n",
    "    else:\n",
    "        \n",
    "        move(n-1,a,c,b) # 传的才是实际参数\n",
    "        \n",
    "        move(1,a,b,c)\n",
    "        \n",
    "        move(n-1,b,a,c)\n",
    "\n",
    "        \n",
    "move(3,'A','B','C')"
   ]
  },
  {
   "cell_type": "code",
   "execution_count": 24,
   "metadata": {},
   "outputs": [
    {
     "name": "stdout",
     "output_type": "stream",
     "text": [
      "1\n"
     ]
    }
   ],
   "source": [
    "i = 0\n",
    "def a():\n",
    "    global i\n",
    "    i += 1\n",
    "    print(i)\n",
    "\n",
    "a()"
   ]
  },
  {
   "cell_type": "code",
   "execution_count": null,
   "metadata": {
    "collapsed": true
   },
   "outputs": [],
   "source": []
  }
 ],
 "metadata": {
  "kernelspec": {
   "display_name": "Python 3",
   "language": "python",
   "name": "python3"
  },
  "language_info": {
   "codemirror_mode": {
    "name": "ipython",
    "version": 3
   },
   "file_extension": ".py",
   "mimetype": "text/x-python",
   "name": "python",
   "nbconvert_exporter": "python",
   "pygments_lexer": "ipython3",
   "version": "3.6.3"
  }
 },
 "nbformat": 4,
 "nbformat_minor": 2
}
