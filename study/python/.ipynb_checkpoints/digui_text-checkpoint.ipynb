{
 "cells": [
  {
   "cell_type": "code",
   "execution_count": 6,
   "metadata": {},
   "outputs": [
    {
     "name": "stdout",
     "output_type": "stream",
     "text": [
      "$3\n",
      "$2\n",
      "$1\n",
      "$0\n",
      "====================\n",
      "0\n",
      "1\n",
      "2\n",
      "3\n"
     ]
    }
   ],
   "source": [
    "def digui(num):\n",
    "    print('$'+str(num))\n",
    "    if num>0:\n",
    "        digui(num-1)\n",
    "    else:\n",
    "        print('='*20)\n",
    "    print(num)\n",
    "    \n",
    "digui(3)"
   ]
  },
  {
   "cell_type": "code",
   "execution_count": 1,
   "metadata": {},
   "outputs": [
    {
     "name": "stdout",
     "output_type": "stream",
     "text": [
      "77739\n"
     ]
    }
   ],
   "source": [
    "import os\n",
    "def getdirpath(dirpath):\n",
    "    total=0\n",
    "    allname = os.listdir(dirpath)\n",
    "    for name in allname:\n",
    "        fullpath=os.path.join(dirpath,name)\n",
    "        if os.path.isfile(fullpath):\n",
    "            total += os.path.getsize(fullpath)\n",
    "        elif os.path.isdir(fullpath):\n",
    "            total += getdirpath(fullpath)\n",
    "    return total\n",
    "\n",
    "size = getdirpath('//home//tlxy//tulingxueyuan//CookBook_and_code')\n",
    "print(size)"
   ]
  },
  {
   "cell_type": "code",
   "execution_count": 35,
   "metadata": {},
   "outputs": [
    {
     "name": "stdout",
     "output_type": "stream",
     "text": [
      "移动第 1 次 A --> C\n",
      "移动第 2 次 A --> B\n",
      "移动第 3 次 C --> B\n",
      "移动第 4 次 A --> C\n",
      "移动第 5 次 B --> A\n",
      "移动第 6 次 B --> C\n",
      "移动第 7 次 A --> C\n"
     ]
    }
   ],
   "source": [
    "i = 0\n",
    "def move(n,a,b,c):\n",
    "    global i\n",
    "    if n==1:\n",
    "        i += 1\n",
    "        print('移动第',i,'次',a,'-->',c)\n",
    "    else:\n",
    "        move(n-1,a,c,b)\n",
    "        move(1,a,b,c)\n",
    "        move(n-1,b,a,c)\n",
    "move(3,'A','B','C')\n",
    "\n",
    "move(3,'A','B','C')\n",
    "n=3\n",
    "    move(2,a,c,b)\n",
    "    n=2\n",
    "        #传的参数\n",
    "        move(1,a,b,c)\n",
    "        n=1\n",
    "        print('第一次',a,'-->',c)\n",
    "        move(1,a,c,b)\n",
    "        n=1\n",
    "        print('第二次',a,'-->',b)\n",
    "        move(1,c,a,b)\n",
    "        n=1\n",
    "        print('第三次',c,'-->',b)\n",
    "    move(1,a,b,c)\n",
    "        n=1\n",
    "        print('第四次',a,'-->',c)\n",
    "    move(2,b,a,c)\n",
    "    n=2\n",
    "        move(1,b,c,a)\n",
    "        n=1\n",
    "        print('第五次',b,'-->',a)\n",
    "        move(1,b,a,c)\n",
    "        n=1\n",
    "        print('第六次',b,'-->',c)\n",
    "        move(1,a,b,c)\n",
    "        n=1\n",
    "        print('第七次',a,'-->',c)"
   ]
  },
  {
   "cell_type": "code",
   "execution_count": 3,
   "metadata": {},
   "outputs": [
    {
     "name": "stdout",
     "output_type": "stream",
     "text": [
      "1\n"
     ]
    }
   ],
   "source": [
    "i = 0\n",
    "def a():\n",
    "    global i\n",
    "    i += 1\n",
    "    print(i)\n",
    "\n",
    "a()"
   ]
  },
  {
   "cell_type": "code",
   "execution_count": null,
   "metadata": {
    "collapsed": true
   },
   "outputs": [],
   "source": [
    "***\n",
    "我把3个盘子的汉诺塔全部通过代码演示，按缩进原则，每一个缩进即进一个递归函数，每打印一次即中止当前递归,也就是每个print\n",
    "说明:\n",
    "    1.n = 3, n = 2, n = 1是每次执行if(n == 1)的结果，这里就不写判断了，相信童鞋们也能看懂，也就是n不等与1时就减1进入递归\n",
    "    2.请注意a,b,c柱每次进入函数的顺序，不要被形参带错路了，看准每次函数参数的实参 \n",
    "***\n",
    "move(3, \"a\", \"b\", \"c\")\n",
    "n=3:\n",
    "    //开始从a上移动n-1即2个盘子通过c移动到b,以腾出c供a最后一个盘子移动\n",
    "    move(2, \"a\",\"c\",\"b\")\n",
    "    n=2:\n",
    "    //开始进行n=2的一个递归，把当前a('a')柱上的n-1个盘子通过c('b'）移动到b('c')\n",
    "        move(1, \"a\", \"b\", \"c\")\n",
    "        n=1:\n",
    "        //n=2的第一个递归完成,打印结果，执行当前子函数剩余代码\n",
    "            print(\"a\", \"->\", \"c\") \n",
    "        move(1, \"a\", \"c\", \"b\")\n",
    "        n=1:\n",
    "            print(\"a\", \"->\", \"b\")\n",
    "        move(1, \"c\", \"a\", \"b\")\n",
    "        n=1:\n",
    "            print(\"c\", \"->\", \"b\")\n",
    "    　   //到这里完成了a柱上面的n-1即是2个盘子的移动\n",
    "        //开始把a柱上最后一个盘子移动到c柱上\n",
    "        move(1, \"a\", \"b\", \"c\")\n",
    "        n=1:\n",
    "            print(\"a\", \"->\", \"c\")\n",
    "    //到这里完成移动a柱上的最后一个盘子到c柱上 \n",
    "move(2, \"b\", \"a\", \"c\")\n",
    "n=2:\n",
    "//开始进行n=2的第二个递归,即把当前b('b')的盘子(n-1个)通过a('a')移动到c('c')上\n",
    "    move(1, \"b\", \"c\", \"a\")\n",
    "    n=1:\n",
    "    //n=2 的第二个递归完成，打印结果并执行当前子函数的剩余代码\n",
    "        print(\"b\", \"->\", \"a\")\n",
    "    move(1, \"b\", \"a\", \"c\")\n",
    "    n=1:\n",
    "        print(\"b\", \"->\", \"c\")\n",
    "    move(1, \"a\", \"b\", \"c\")\n",
    "    n=1:\n",
    "        print(\"a\", \"->\", \"c\")\n",
    "        //到这里把b上的盘子通过a移动到c,\n",
    "//整个代码执行完毕,汉诺塔移动完成"
   ]
  },
  {
   "cell_type": "code",
   "execution_count": null,
   "metadata": {
    "collapsed": true
   },
   "outputs": [],
   "source": []
  }
 ],
 "metadata": {
  "kernelspec": {
   "display_name": "Python 3",
   "language": "python",
   "name": "python3"
  },
  "language_info": {
   "codemirror_mode": {
    "name": "ipython",
    "version": 3
   },
   "file_extension": ".py",
   "mimetype": "text/x-python",
   "name": "python",
   "nbconvert_exporter": "python",
   "pygments_lexer": "ipython3",
   "version": "3.6.3"
  }
 },
 "nbformat": 4,
 "nbformat_minor": 2
}
