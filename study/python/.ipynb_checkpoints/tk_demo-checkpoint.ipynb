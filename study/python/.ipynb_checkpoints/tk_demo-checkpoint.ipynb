{
 "cells": [
  {
   "cell_type": "markdown",
   "metadata": {},
   "source": [
    "## Tkinter模块(\"Tk 接口\")是Python的标准Tk GUI工具包的接口,并良好地运行在绝大多数平台中.(windows,linux,uinx)\n",
    "\n",
    "## 一个窗口中里面的任何内容都可以称为组件\n",
    "\n",
    "## 常用的三种布局方法\n",
    "\n",
    "    pack()\n",
    "\n",
    "    grid()\n",
    "    \n",
    "    place()"
   ]
  },
  {
   "cell_type": "code",
   "execution_count": null,
   "metadata": {
    "collapsed": true
   },
   "outputs": [],
   "source": [
    "# 创建一个简单的窗口\n",
    "import tkinter\n",
    "# 实例化窗口对象\n",
    "root = tkinter.Tk()\n",
    "# 保持窗口一直处于消息循环状态\n",
    "root.mainloop()"
   ]
  },
  {
   "cell_type": "code",
   "execution_count": 2,
   "metadata": {
    "collapsed": true
   },
   "outputs": [],
   "source": [
    "# 创建一个带有组件的窗口\n",
    "import tkinter\n",
    "# 实例化窗口对象\n",
    "root = tkinter.Tk()\n",
    "# 创建一个标签组件,并添加到主窗口\n",
    "label = tkinter.Label(root,text=\"1111\")\n",
    "label.pack()\n",
    "\n",
    "label = tkinter.Label(root,text=\"我来学习了\")\n",
    "label.pack()\n",
    "\n",
    "\n",
    "# 保持窗口一直处于消息循环状态\n",
    "root.mainloop()"
   ]
  },
  {
   "cell_type": "code",
   "execution_count": 5,
   "metadata": {},
   "outputs": [
    {
     "ename": "NameError",
     "evalue": "name 'pack' is not defined",
     "output_type": "error",
     "traceback": [
      "\u001b[0;31m---------------------------------------------------------------------------\u001b[0m",
      "\u001b[0;31mNameError\u001b[0m                                 Traceback (most recent call last)",
      "\u001b[0;32m<ipython-input-5-959c3abf8523>\u001b[0m in \u001b[0;36m<module>\u001b[0;34m()\u001b[0m\n\u001b[0;32m----> 1\u001b[0;31m \u001b[0mhelp\u001b[0m\u001b[0;34m(\u001b[0m\u001b[0mpack\u001b[0m\u001b[0;34m(\u001b[0m\u001b[0;34m)\u001b[0m\u001b[0;34m)\u001b[0m\u001b[0;34m\u001b[0m\u001b[0m\n\u001b[0m",
      "\u001b[0;31mNameError\u001b[0m: name 'pack' is not defined"
     ]
    }
   ],
   "source": []
  },
  {
   "cell_type": "code",
   "execution_count": null,
   "metadata": {
    "collapsed": true
   },
   "outputs": [],
   "source": []
  }
 ],
 "metadata": {
  "kernelspec": {
   "display_name": "Python 3",
   "language": "python",
   "name": "python3"
  },
  "language_info": {
   "codemirror_mode": {
    "name": "ipython",
    "version": 3
   },
   "file_extension": ".py",
   "mimetype": "text/x-python",
   "name": "python",
   "nbconvert_exporter": "python",
   "pygments_lexer": "ipython3",
   "version": "3.6.3"
  }
 },
 "nbformat": 4,
 "nbformat_minor": 2
}
