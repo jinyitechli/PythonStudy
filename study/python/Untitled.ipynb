{
 "cells": [
  {
   "cell_type": "markdown",
   "metadata": {},
   "source": [
    "#git使用\n",
    "1.注册一个git账户,官网:https://github.com/\n",
    "2.登录并创建一个远程仓库\n",
    "3.创建本地仓库\n",
    "-安装对应的git版本\n",
    "-git init 初始化本地仓库\n",
    "-git add . 提交本地所以文件(也可以git add 文件名),提交是把他提交到暂存区\n",
    "-git commit  执行完这条命令的时候才把文件从暂存区提交到本地仓库  -m参数,带说明提交\n",
    "4.配置git\n",
    "-生成私钥 ssh-keygen -t rsa -C \"your_email@youremail.com\"并添加到git中\n",
    "-添加全局环境\n",
    "    git config --global user.name \"your name\"\n",
    "    git config --global user.email \"your_email@youremail.com\"\n",
    "-添加远程地址\n",
    "    git remote add origin git@github.com:yourName/yourRepo.git\n",
    "5.把本地仓库提交到远程仓库中去\n",
    "\n",
    "下载别人代码\n",
    "git clone 远程仓库地址\n",
    "直接下载压缩包"
   ]
  }
 ],
 "metadata": {
  "kernelspec": {
   "display_name": "Python 3",
   "language": "python",
   "name": "python3"
  },
  "language_info": {
   "codemirror_mode": {
    "name": "ipython",
    "version": 3
   },
   "file_extension": ".py",
   "mimetype": "text/x-python",
   "name": "python",
   "nbconvert_exporter": "python",
   "pygments_lexer": "ipython3",
   "version": "3.6.3"
  }
 },
 "nbformat": 4,
 "nbformat_minor": 2
}
