{
 "cells": [
  {
   "cell_type": "markdown",
   "metadata": {},
   "source": [
    "# 汉诺塔问题\n",
    "- 规则：  \n",
    "    1. 每次移动一个盘子\n",
    "    2. 任何时候大盘子在下面，小盘子在上面\n",
    "- 方法：\n",
    "    1. n=1:直接A到C；A->C\n",
    "    2. n=2:\n",
    "        1. 把小盘子从A到B，A->B\n",
    "        2. 把大盘子从A到C，A->C\n",
    "        3. 把小盘子从B到C，B->C\n",
    "    3. n=3:\n",
    "        1. 把A上两个盘子通过C移动B上去，调用递归实现\n",
    "        2. 把A上剩下的一个最大的盘子移动到C上，A->C\n",
    "        3. 吧B上两个盘子，借助A，挪动到C，调用递归\n",
    "    4. n=n:\n",
    "        1. 把A上的n-1个盘子，借助C，移动到B上去，调用递归\n",
    "        2. 把A上的最大盘子，也就是唯一一个移动到C上，A->C\n",
    "        3. 把B上的n-1个盘子借助于A，移动到C上，调用递归"
   ]
  },
  {
   "cell_type": "code",
   "execution_count": 8,
   "metadata": {},
   "outputs": [
    {
     "name": "stdout",
     "output_type": "stream",
     "text": [
      "A --> C\n"
     ]
    }
   ],
   "source": [
    "def hano(n,a,b,c):\n",
    "    '''\n",
    "    汉诺塔的递归实现\n",
    "    n:代表几个盘子\n",
    "    a:代表第一个盘子\n",
    "    b:代表第二个盘子\n",
    "    c:代表第三个盘子\n",
    "    '''\n",
    "    if n==1:\n",
    "        print(a,\"-->\",c)\n",
    "        return None\n",
    "    # n = 2可以舍去\n",
    "    '''\n",
    "    if n==2:\n",
    "        print(a,\"-->\",b)\n",
    "        print(a,\"-->\",c)\n",
    "        print(b,\"-->\",c)\n",
    "        return None\n",
    "    '''    \n",
    "        \n",
    "    # 把n-1个盘子从a借助于c，挪到b上\n",
    "    hano(n-1,a,c,b)\n",
    "    print(a,\"-->\",c)\n",
    "    # 把n-1个盘子从b借助于a，挪到c上\n",
    "    hano(n-1,b,a,c)\n",
    "    \n",
    "a = \"A\"\n",
    "b = \"B\"\n",
    "c = \"C\"\n",
    "\n",
    "n = 1\n",
    "hano(n,a,b,c)"
   ]
  },
  {
   "cell_type": "code",
   "execution_count": 9,
   "metadata": {},
   "outputs": [
    {
     "name": "stdout",
     "output_type": "stream",
     "text": [
      "A --> B\n",
      "A --> C\n",
      "B --> C\n",
      "A --> B\n",
      "C --> A\n",
      "C --> B\n",
      "A --> B\n",
      "A --> C\n",
      "B --> C\n",
      "B --> A\n",
      "C --> A\n",
      "B --> C\n",
      "A --> B\n",
      "A --> C\n",
      "B --> C\n"
     ]
    }
   ],
   "source": [
    "n = 4\n",
    "hano(n,a,b,c)"
   ]
  },
  {
   "cell_type": "markdown",
   "metadata": {},
   "source": [
    "# List(列表)\n",
    "- del:删除命令"
   ]
  },
  {
   "cell_type": "code",
   "execution_count": 11,
   "metadata": {},
   "outputs": [
    {
     "name": "stdout",
     "output_type": "stream",
     "text": [
      "[1, 2, 4, 5, 6, 7]\n"
     ]
    }
   ],
   "source": [
    "# del 删除\n",
    "a = [1,2,3,4,5,6,7]\n",
    "del a[2]\n",
    "print(a)"
   ]
  },
  {
   "cell_type": "code",
   "execution_count": 13,
   "metadata": {},
   "outputs": [
    {
     "name": "stdout",
     "output_type": "stream",
     "text": [
      "663489985928\n",
      "663489985928\n",
      "[1, 2, 4, 5]\n"
     ]
    }
   ],
   "source": [
    "# del 删除\n",
    "# 如果使用del之后，id的值和删除前不一样，则说明删除生成了一个新的list\n",
    "a = [1,2,3,4,5]\n",
    "print(id(a))\n",
    "del a[2]\n",
    "print(id(a))\n",
    "print(a)"
   ]
  },
  {
   "cell_type": "code",
   "execution_count": 14,
   "metadata": {},
   "outputs": [],
   "source": [
    "# del一个变量后不能再继续使用此变量"
   ]
  },
  {
   "cell_type": "markdown",
   "metadata": {},
   "source": [
    "### 列表相加\n",
    "- 使用加号链接两个列表"
   ]
  },
  {
   "cell_type": "code",
   "execution_count": 16,
   "metadata": {},
   "outputs": [
    {
     "name": "stdout",
     "output_type": "stream",
     "text": [
      "[1, 2, 3, 4, 6, 7, 8, 9]\n"
     ]
    }
   ],
   "source": [
    "a = [1,2,3,4]\n",
    "b = [6,7,8,9]\n",
    "c = a + b\n",
    "print(c)"
   ]
  },
  {
   "cell_type": "code",
   "execution_count": 18,
   "metadata": {},
   "outputs": [
    {
     "name": "stdout",
     "output_type": "stream",
     "text": [
      "[11, 23, 45, 11, 23, 45, 11, 23, 45]\n"
     ]
    }
   ],
   "source": [
    "# 使用乘号操作列表\n",
    "# 列表直接跟一个整数相乘\n",
    "# 相当于把n个列表接在一起\n",
    "a = [11,23,45]\n",
    "b = a * 3\n",
    "print(b)"
   ]
  },
  {
   "cell_type": "code",
   "execution_count": 20,
   "metadata": {},
   "outputs": [
    {
     "name": "stdout",
     "output_type": "stream",
     "text": [
      "False\n",
      "True\n"
     ]
    }
   ],
   "source": [
    "# 成员资格运算\n",
    "# 就是判断一个元素是否在list里面\n",
    "a = [1,2,3,4,5]\n",
    "b = 8\n",
    "\n",
    "# c的值是一个布尔值\n",
    "c = b in a\n",
    "print(c)\n",
    "\n",
    "b = 4\n",
    "print(b in a)"
   ]
  },
  {
   "cell_type": "code",
   "execution_count": 22,
   "metadata": {},
   "outputs": [
    {
     "name": "stdout",
     "output_type": "stream",
     "text": [
      "True\n"
     ]
    }
   ],
   "source": [
    "# not in \n",
    "a = [1,2,3,4]\n",
    "b = 9\n",
    "print(b not in a)"
   ]
  },
  {
   "cell_type": "markdown",
   "metadata": {},
   "source": [
    "# 链表的遍历\n",
    "- for\n",
    "- while"
   ]
  },
  {
   "cell_type": "code",
   "execution_count": 23,
   "metadata": {},
   "outputs": [
    {
     "name": "stdout",
     "output_type": "stream",
     "text": [
      "1\n",
      "2\n",
      "3\n",
      "4\n"
     ]
    }
   ],
   "source": [
    "# for in list\n",
    "a = [1,2,3,4]\n",
    "\n",
    "# 挨个打印a里面的元素\n",
    "for i in a:\n",
    "    print(i)"
   ]
  },
  {
   "cell_type": "code",
   "execution_count": 8,
   "metadata": {},
   "outputs": [
    {
     "name": "stdout",
     "output_type": "stream",
     "text": [
      "1\n",
      "2\n",
      "3\n",
      "4\n",
      "<class 'range'>\n"
     ]
    }
   ],
   "source": [
    "# range\n",
    "# in 后面的变量要求是可以迭代的内容\n",
    "for i in range(1,5):\n",
    "    print(i)\n",
    "    \n",
    "print(type(range(1,5)))"
   ]
  },
  {
   "cell_type": "code",
   "execution_count": 12,
   "metadata": {},
   "outputs": [
    {
     "name": "stdout",
     "output_type": "stream",
     "text": [
      "1\n",
      "2\n",
      "3\n",
      "4\n",
      "5\n"
     ]
    }
   ],
   "source": [
    "# while循环访问list\n",
    "# 一般不用while遍历\n",
    "\n",
    "a =[1,2,3,4,5]\n",
    "length = len(a)\n",
    "#indx表示的是list的下标\n",
    "indx = 0 \n",
    "while indx < length:\n",
    "    print(a[indx])\n",
    "    indx += 1"
   ]
  },
  {
   "cell_type": "code",
   "execution_count": 14,
   "metadata": {},
   "outputs": [
    {
     "name": "stdout",
     "output_type": "stream",
     "text": [
      "one -- 1\n",
      "two -- 2\n",
      "three -- 3\n"
     ]
    }
   ],
   "source": [
    "# 双层列表循环\n",
    "# a 为\n",
    "a = [[\"one\",1],[\"two\",2],[\"three\",3]]\n",
    "# 这个列子说明 ，k,v的个数应该跟解包出来的变量个数一致\n",
    "for k,v in a:\n",
    "    print(k,\"--\",v)"
   ]
  },
  {
   "cell_type": "markdown",
   "metadata": {},
   "source": [
    "# 列表内涵：list content\n",
    "- 通过简单方法创作列表"
   ]
  },
  {
   "cell_type": "code",
   "execution_count": 16,
   "metadata": {},
   "outputs": [
    {
     "name": "stdout",
     "output_type": "stream",
     "text": [
      "['a', 'b', 'c']\n"
     ]
    }
   ],
   "source": [
    "# for 创建\n",
    "a = ['a','b','c']\n",
    "# 用list a创建一个list b\n",
    "# 下面代码的含义是，对于所有a 中的元素，逐个放入新列表b中\n",
    "b = [i for i in a]\n",
    "print(b)"
   ]
  },
  {
   "cell_type": "code",
   "execution_count": 18,
   "metadata": {},
   "outputs": [
    {
     "name": "stdout",
     "output_type": "stream",
     "text": [
      "[10, 20, 30, 40, 50]\n"
     ]
    }
   ],
   "source": [
    "# 对a中所有元素乘以10，生成一个新list\n",
    "a = [1,2,3,4,5]\n",
    "# 用list a 创建一个list b\n",
    "# 下面代码的含义是，对于a中的元素，逐个放入新列表b中\n",
    "b = [i*10 for i in a]\n",
    "print(b)"
   ]
  },
  {
   "cell_type": "code",
   "execution_count": 20,
   "metadata": {},
   "outputs": [
    {
     "name": "stdout",
     "output_type": "stream",
     "text": [
      "[2, 4, 6, 8, 10, 12, 14, 16, 18]\n"
     ]
    }
   ],
   "source": [
    "# 还可以过滤原来list中内容 并放入新列表\n",
    "# 比如原有列表a，需要把所有a 中的偶数生成新的列表b\n",
    "\n",
    "a = [x for x in range(1,20)]\n",
    "# 把a中所有偶数生成一个新的列表b\n",
    "b = [m for m in a if m % 2 == 0]\n",
    "print(b)"
   ]
  },
  {
   "cell_type": "code",
   "execution_count": 25,
   "metadata": {},
   "outputs": [
    {
     "name": "stdout",
     "output_type": "stream",
     "text": [
      "[1, 2, 3, 4, 5, 6, 7, 8, 9]\n",
      "[100, 200, 300, 400, 500, 600, 700, 800, 900]\n",
      "[101, 102, 103, 104, 105, 106, 107, 108, 109]\n"
     ]
    }
   ],
   "source": [
    "# 列表生成式可以嵌套\n",
    "# 由两个列表a,b\n",
    "a = [i for i in range(1,10)]\n",
    "print(a)\n",
    "b = [i for i in range(100,1000)if i % 100 == 0]\n",
    "print(b)\n",
    "\n",
    "# 列表生成可以嵌套，此时等于两个for循环嵌套，也可以用条件表达式\n",
    "c = [m+n for m in a for n in b if m+n < 200]\n",
    "print(c)\n",
    "\n"
   ]
  },
  {
   "cell_type": "markdown",
   "metadata": {},
   "source": [
    "# 关于类表的常用函数"
   ]
  },
  {
   "cell_type": "code",
   "execution_count": 27,
   "metadata": {},
   "outputs": [
    {
     "name": "stdout",
     "output_type": "stream",
     "text": [
      "99\n",
      "99\n",
      "python\n"
     ]
    }
   ],
   "source": [
    "# len:求列表长度\n",
    "a = [x for x in range(1,100)]\n",
    "print(len(a))\n",
    "\n",
    "# max:求列表中的最大值\n",
    "# min:同理\n",
    "print(max(a))\n",
    "\n",
    "b = ['man','film','python']\n",
    "print(max(b))"
   ]
  },
  {
   "cell_type": "code",
   "execution_count": 29,
   "metadata": {},
   "outputs": [
    {
     "name": "stdout",
     "output_type": "stream",
     "text": [
      "['H', 'E', 'L', 'L', 'O', ' ', 'W', 'O', 'R', 'D', '!']\n"
     ]
    }
   ],
   "source": [
    "# list:将其他格式的数据转换成list\n",
    "s = \"HELLO WORD!\"\n",
    "print(list(s))"
   ]
  },
  {
   "cell_type": "code",
   "execution_count": 30,
   "metadata": {},
   "outputs": [
    {
     "name": "stdout",
     "output_type": "stream",
     "text": [
      "[1, 2, 3, 4]\n"
     ]
    }
   ],
   "source": [
    "# 把range产生的内容转换成list\n",
    "print(list(range(1,5)))"
   ]
  }
 ],
 "metadata": {
  "kernelspec": {
   "display_name": "Python 3",
   "language": "python",
   "name": "python3"
  },
  "language_info": {
   "codemirror_mode": {
    "name": "ipython",
    "version": 3
   },
   "file_extension": ".py",
   "mimetype": "text/x-python",
   "name": "python",
   "nbconvert_exporter": "python",
   "pygments_lexer": "ipython3",
   "version": "3.6.5"
  }
 },
 "nbformat": 4,
 "nbformat_minor": 2
}
