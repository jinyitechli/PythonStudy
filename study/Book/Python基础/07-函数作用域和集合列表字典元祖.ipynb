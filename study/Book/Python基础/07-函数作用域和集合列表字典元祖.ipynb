{
 "cells": [
  {
   "cell_type": "code",
   "execution_count": null,
   "metadata": {},
   "outputs": [],
   "source": [
    "# 变量作用域\n",
    "- 变量由作用范围限制\n",
    "- 分类：按照作用域分类\n",
    "     - 全局（global）:在函数外部定义\n",
    "     - 局部（local）：在函数内部定义  \n",
    "- 变量的作用范围：\n",
    "    - 全局变量：在整个全局范围都有效\n",
    "    - 全局变量在局部可以使用（即函数内部可以访问函数外部定义的变量）\n",
    "    - 局部变量在局部范围可以使用\n",
    "    - 局部变量在全局范围无法使用\n",
    "- LEGB原则\n",
    "    - L （local）局部作用域\n",
    "    - E （Enclosing function locale）外部嵌套函数作用域\n",
    "    - G （Global module）函数定义所在模块作用域\n",
    "    - B （Buildin）：python内置模块的作用域\n",
    "    "
   ]
  },
  {
   "cell_type": "code",
   "execution_count": 4,
   "metadata": {},
   "outputs": [
    {
     "name": "stdout",
     "output_type": "stream",
     "text": [
      "100\n",
      "100\n",
      "I am in fun\n",
      "99\n"
     ]
    }
   ],
   "source": [
    "#认为a1是全局的\n",
    "a1 = 100\n",
    "\n",
    "def fun ():\n",
    "    print(a1)\n",
    "    print(\"I am in fun\")\n",
    "    a2 = 99\n",
    "    print(a2)\n",
    "    \n",
    "print(a1)\n",
    "fun()\n",
    "#print(a2)"
   ]
  },
  {
   "cell_type": "markdown",
   "metadata": {},
   "source": [
    "## 提升局部变量位全局变量\n",
    "- 使用global\n",
    "- 案例如下\n"
   ]
  },
  {
   "cell_type": "code",
   "execution_count": null,
   "metadata": {},
   "outputs": [],
   "source": [
    "def fun():\n",
    "    global b1\n",
    "    b3 = 100\n",
    "    print(b1)\n",
    "    print(\"III\")\n",
    "    b2 = 99\n",
    "    print(b2)\n",
    "    \n",
    "\n",
    "#print(b2)\n",
    "fun()\n",
    "print(b1)"
   ]
  },
  {
   "cell_type": "markdown",
   "metadata": {},
   "source": [
    "# globals,locals函数\n",
    "- 可以通过globals和locals显示出局部变量和全局变量"
   ]
  },
  {
   "cell_type": "code",
   "execution_count": 5,
   "metadata": {},
   "outputs": [
    {
     "name": "stdout",
     "output_type": "stream",
     "text": [
      "Locals={'e': 111, 'd': 200, 'c': 100}\n",
      "Globals={'__name__': '__main__', '__doc__': 'Automatically created module for IPython interactive environment', '__package__': None, '__loader__': None, '__spec__': None, '__builtin__': <module 'builtins' (built-in)>, '__builtins__': <module 'builtins' (built-in)>, '_ih': ['', 'def fun():\\n    global b1\\n    b1 = 100\\n    print(b1)\\n    print(\"III\")\\n    b2 = 99\\n    print(b2)\\n    \\nprint(b1)\\n#print(b2)\\nfun()', 'def fun():\\n    global b1\\n    b1 = 100\\n    print(b1)\\n    print(\"III\")\\n    b2 = 99\\n    print(b2)\\n    \\nprint(b1)\\n#print(b2)\\nfun()', '# globals 和 locals\\na = 1\\nb = 2\\n\\ndef fun(c,d):\\n    e = 111\\n    print(\"Locals={0}\".format(locals()))\\n    print(\"Globals={0}\".format(globals()))\\nfun(100,200)', '# globals 和 locals\\na = 1\\nb = 2\\n\\ndef fun(c,d):\\n    e = 111\\n    print(\"Locals={0}\".format(locals()))\\n    print(\"Globals={0}\".format(globals()))\\n\\nfun(100,200)', '# globals 和 locals\\na = 1\\nb = 2\\n\\ndef fun(c,d):\\n    e = 111\\n    print(\"Locals={0}\".format(locals()))\\n    print(\"Globals={0}\".format(globals()))\\n\\nfun(100,200)'], '_oh': {}, '_dh': ['C:\\\\Users\\\\Li\\\\python'], 'In': ['', 'def fun():\\n    global b1\\n    b1 = 100\\n    print(b1)\\n    print(\"III\")\\n    b2 = 99\\n    print(b2)\\n    \\nprint(b1)\\n#print(b2)\\nfun()', 'def fun():\\n    global b1\\n    b1 = 100\\n    print(b1)\\n    print(\"III\")\\n    b2 = 99\\n    print(b2)\\n    \\nprint(b1)\\n#print(b2)\\nfun()', '# globals 和 locals\\na = 1\\nb = 2\\n\\ndef fun(c,d):\\n    e = 111\\n    print(\"Locals={0}\".format(locals()))\\n    print(\"Globals={0}\".format(globals()))\\nfun(100,200)', '# globals 和 locals\\na = 1\\nb = 2\\n\\ndef fun(c,d):\\n    e = 111\\n    print(\"Locals={0}\".format(locals()))\\n    print(\"Globals={0}\".format(globals()))\\n\\nfun(100,200)', '# globals 和 locals\\na = 1\\nb = 2\\n\\ndef fun(c,d):\\n    e = 111\\n    print(\"Locals={0}\".format(locals()))\\n    print(\"Globals={0}\".format(globals()))\\n\\nfun(100,200)'], 'Out': {}, 'get_ipython': <bound method InteractiveShell.get_ipython of <ipykernel.zmqshell.ZMQInteractiveShell object at 0x00000016400C9C50>>, 'exit': <IPython.core.autocall.ZMQExitAutocall object at 0x0000001640EDB198>, 'quit': <IPython.core.autocall.ZMQExitAutocall object at 0x0000001640EDB198>, '_': '', '__': '', '___': '', '_i': '# globals 和 locals\\na = 1\\nb = 2\\n\\ndef fun(c,d):\\n    e = 111\\n    print(\"Locals={0}\".format(locals()))\\n    print(\"Globals={0}\".format(globals()))\\n\\nfun(100,200)', '_ii': '# globals 和 locals\\na = 1\\nb = 2\\n\\ndef fun(c,d):\\n    e = 111\\n    print(\"Locals={0}\".format(locals()))\\n    print(\"Globals={0}\".format(globals()))\\nfun(100,200)', '_iii': 'def fun():\\n    global b1\\n    b1 = 100\\n    print(b1)\\n    print(\"III\")\\n    b2 = 99\\n    print(b2)\\n    \\nprint(b1)\\n#print(b2)\\nfun()', '_i1': 'def fun():\\n    global b1\\n    b1 = 100\\n    print(b1)\\n    print(\"III\")\\n    b2 = 99\\n    print(b2)\\n    \\nprint(b1)\\n#print(b2)\\nfun()', 'fun': <function fun at 0x0000001641424840>, '_i2': 'def fun():\\n    global b1\\n    b1 = 100\\n    print(b1)\\n    print(\"III\")\\n    b2 = 99\\n    print(b2)\\n    \\nprint(b1)\\n#print(b2)\\nfun()', '_i3': '# globals 和 locals\\na = 1\\nb = 2\\n\\ndef fun(c,d):\\n    e = 111\\n    print(\"Locals={0}\".format(locals()))\\n    print(\"Globals={0}\".format(globals()))\\nfun(100,200)', 'a': 1, 'b': 2, '_i4': '# globals 和 locals\\na = 1\\nb = 2\\n\\ndef fun(c,d):\\n    e = 111\\n    print(\"Locals={0}\".format(locals()))\\n    print(\"Globals={0}\".format(globals()))\\n\\nfun(100,200)', '_i5': '# globals 和 locals\\na = 1\\nb = 2\\n\\ndef fun(c,d):\\n    e = 111\\n    print(\"Locals={0}\".format(locals()))\\n    print(\"Globals={0}\".format(globals()))\\n\\nfun(100,200)'}\n"
     ]
    }
   ],
   "source": [
    "# globals 和 locals\n",
    "# globals 和 lcoals 叫做内建函数\n",
    "a = 1\n",
    "b = 2\n",
    "\n",
    "def fun(c,d):\n",
    "    e = 111\n",
    "    print(\"Locals={0}\".format(locals()))\n",
    "    print(\"Globals={0}\".format(globals()))\n",
    "\n",
    "fun(100,200)"
   ]
  },
  {
   "cell_type": "markdown",
   "metadata": {},
   "source": [
    "# eval()函数\n",
    "- 把一个字符串当成表达式来执行，返回表达式执行后的结果\n",
    "- 语法：  \n",
    "\n",
    "        eval(string_code,globals=None,locals=None)  \n",
    "        \n",
    "# exec()函数\n",
    "- 跟exal功能类似，但是，不反回结果\n",
    "- 语法：  \n",
    "\n",
    "        exec(string_code,globals=None,locals=None)"
   ]
  },
  {
   "cell_type": "code",
   "execution_count": 7,
   "metadata": {},
   "outputs": [
    {
     "name": "stdout",
     "output_type": "stream",
     "text": [
      "300\n",
      "300\n"
     ]
    }
   ],
   "source": [
    "x = 100\n",
    "y = 200\n",
    "#执行x+y\n",
    "# z = x + y\n",
    "z1 = x + y\n",
    "z2 = eval(\"x+y\")\n",
    "\n",
    "print(z1)\n",
    "print(z2)"
   ]
  },
  {
   "cell_type": "code",
   "execution_count": 12,
   "metadata": {},
   "outputs": [
    {
     "name": "stdout",
     "output_type": "stream",
     "text": [
      "300\n",
      "None\n"
     ]
    }
   ],
   "source": [
    "# exec示例\n",
    "x = 100\n",
    "y = 200\n",
    "#执行x+y\n",
    "# z = x + y\n",
    "z1 = x + y\n",
    "z2 = exec(\"x+y\")\n",
    "\n",
    "print(z1)\n",
    "print(z2)"
   ]
  },
  {
   "cell_type": "markdown",
   "metadata": {},
   "source": [
    "# 递归函数\n",
    "- 函数直接或者间接调用自身\n",
    "- 优点：简洁，理解容易\n",
    "- 缺点：对递归深度有限制，消耗资源大\n",
    "- python对递归深度有限制，超过限制报错\n",
    "- 在写递归程序的时候，一定要注意结束条件"
   ]
  },
  {
   "cell_type": "code",
   "execution_count": 1,
   "metadata": {},
   "outputs": [],
   "source": [
    "# 递归调用深度限制代码\n",
    "\n",
    "x = 0\n",
    "def fun():\n",
    "    global x\n",
    "    x += 1\n",
    "    print(x)\n",
    "    #函数自己调用自己\n",
    "    fun()\n",
    "    \n",
    "# 调用函数\n",
    "#fun()"
   ]
  },
  {
   "cell_type": "code",
   "execution_count": 25,
   "metadata": {},
   "outputs": [
    {
     "name": "stdout",
     "output_type": "stream",
     "text": [
      "55\n"
     ]
    }
   ],
   "source": [
    " # 斐波那契数列\n",
    "    \n",
    "    \n",
    "def fib(n):\n",
    "    if n == 1:\n",
    "        return 1\n",
    "    if n == 2:\n",
    "        return 1\n",
    "    \n",
    "    return fib(n-1) + fib(n-2)\n",
    "\n",
    "print(fib(10))"
   ]
  },
  {
   "cell_type": "markdown",
   "metadata": {},
   "source": [
    " # 内置数据结构（变量类型）\n",
    " - list\n",
    " - set \n",
    " - dict\n",
    " - tuple\n",
    " ## list（列表）\n",
    " - 一组有顺序的数据组合\n",
    " - 创建列表\n",
    "     - 空列表"
   ]
  },
  {
   "cell_type": "code",
   "execution_count": 28,
   "metadata": {},
   "outputs": [
    {
     "name": "stdout",
     "output_type": "stream",
     "text": [
      "<class 'list'>\n",
      "[]\n",
      "<class 'list'>\n",
      "[100]\n",
      "<class 'list'>\n",
      "[1, 2, 3, 4, 5, 6, 7]\n",
      "<class 'list'>\n",
      "[]\n"
     ]
    }
   ],
   "source": [
    "# 创建空列表\n",
    "l1 = []\n",
    "# type是内置函数，负责打印出变量的类型\n",
    "print(type(l1))\n",
    "print(l1)\n",
    "\n",
    "# 创建呆滞的列表\n",
    "l2 = [100]\n",
    "print(type(l2))\n",
    "print(l2)\n",
    "\n",
    "# 创建列表，带多个值\n",
    "l3 = [1,2,3,4,5,6,7]\n",
    "print(type(l3))\n",
    "print(l3)\n",
    "\n",
    "# 使用list\n",
    "l4 = list()\n",
    "print(type(l4))\n",
    "print(l4)"
   ]
  },
  {
   "cell_type": "markdown",
   "metadata": {},
   "source": [
    "## 列表常用操作\n",
    "- 访问\n",
    "    - 使用下标操作（索引）\n",
    "    - 列表的位置是从0开始\n",
    "- 分片操作\n",
    "    - 对列表进行任意一段的截取\n",
    "    - 语法：  l[:]   "
   ]
  },
  {
   "cell_type": "code",
   "execution_count": 31,
   "metadata": {},
   "outputs": [
    {
     "name": "stdout",
     "output_type": "stream",
     "text": [
      "5\n",
      "1\n"
     ]
    }
   ],
   "source": [
    "# 下标访问列表\n",
    "l = [1,2,3,4,5,6,7]\n",
    "\n",
    "print(l[4])\n",
    "print(l[0])"
   ]
  },
  {
   "cell_type": "code",
   "execution_count": 33,
   "metadata": {},
   "outputs": [
    {
     "name": "stdout",
     "output_type": "stream",
     "text": [
      "[2, 3, 4]\n",
      "[1, 2, 3, 4, 5, 6, 7]\n",
      "[1, 2, 3, 4]\n",
      "[3, 4, 5, 6, 7]\n"
     ]
    }
   ],
   "source": [
    "# 分片操作\n",
    "# 注意截取的范围，包含左边下标值，不包含右边下标值（左闭右开）\n",
    "print(l[1:4])\n",
    "\n",
    "# 下标值可以为空，如果不写，左边下标值默认为0，右边下标值为最大数加一，即表示截取到最后一个数据\n",
    "print(l[:])\n",
    "print(l[:4])\n",
    "print(l[2:])"
   ]
  },
  {
   "cell_type": "code",
   "execution_count": 35,
   "metadata": {},
   "outputs": [
    {
     "name": "stdout",
     "output_type": "stream",
     "text": [
      "[1, 2, 3, 4, 5, 6, 7]\n",
      "[2, 4, 6]\n",
      "[3, 4, 5, 6, 7]\n"
     ]
    }
   ],
   "source": [
    "# 分片长度可以控制增长幅度，默认增长幅度位1\n",
    "print(l)\n",
    "\n",
    "# 打印从下标1开始的数字，每次隔一个\n",
    "print(l[1:6:2])\n",
    "\n",
    "# 下标可以超出范围，超出后不在考虑多于下标内容\n",
    "print(l[2:10])\n",
    "\n",
    "# 下标值，增长幅度可以为负数\n",
    "# 为负数，表明顺序是从右往左\n",
    "# 规定：数组最后一个数字的下标是-1"
   ]
  },
  {
   "cell_type": "code",
   "execution_count": 37,
   "metadata": {},
   "outputs": [
    {
     "name": "stdout",
     "output_type": "stream",
     "text": [
      "[1, 2, 3, 4, 5, 6, 7]\n",
      "[]\n",
      "[4, 5]\n",
      "[6, 5]\n"
     ]
    }
   ],
   "source": [
    "# 分片---负数下标\n",
    "print(l)\n",
    "# 下面显示的是为空，因为默认分片总是从左向右截取\n",
    "# 即正常情况，分片左边的值一定小于右边的值\n",
    "print(l[-2:-4])\n",
    "print(l[-4:-2])\n",
    "# 如果分片一定左边值比右边大，则步长参数需要使用负数\n",
    "# 此案例为一个list直接正反颠倒提供了一种思路\n",
    "print(l[-2:-4:-1])"
   ]
  },
  {
   "cell_type": "markdown",
   "metadata": {},
   "source": [
    "## 分片操作是生成一个新的list\n",
    "- 内置函数ID，负责显示一个变量或者数据的唯一确定编号"
   ]
  },
  {
   "cell_type": "code",
   "execution_count": 40,
   "metadata": {},
   "outputs": [
    {
     "name": "stdout",
     "output_type": "stream",
     "text": [
      "1925675168\n",
      "1925678368\n",
      "1925675168\n"
     ]
    }
   ],
   "source": [
    "# id函数举例\n",
    "a = 100\n",
    "b = 200\n",
    "print(id(a))\n",
    "print(id(b))\n",
    "\n",
    "c = a\n",
    "print(id(c))\n",
    "\n",
    "\n"
   ]
  },
  {
   "cell_type": "code",
   "execution_count": 41,
   "metadata": {},
   "outputs": [
    {
     "name": "stdout",
     "output_type": "stream",
     "text": [
      "95585941320\n",
      "95585623816\n",
      "95585623816\n",
      "[1, 100, 3, 4, 5, 6, 7]\n",
      "[1, 2, 3, 4, 5, 6, 7]\n",
      "[1, 100, 3, 4, 5, 6, 7]\n",
      "[1, 100, 3, 4, 5, 6, 7]\n"
     ]
    }
   ],
   "source": [
    "# 通过id可以直接判断出分片是从新生成了一份数据还是使用的同一份数据\n",
    "l = [1,2,3,4,5,6,7]\n",
    "ll = l[:]\n",
    "lll = ll\n",
    "# 如果两个id值一样，则表明分片产生的列表是使用同一个地址同一份数据\n",
    "# 否则，则表明分片是从新生成了一份数据，即一个新的列表，然后把数值拷贝到新列表中\n",
    "print(id(l))\n",
    "print(id(ll))\n",
    "print(id(lll))\n",
    "\n",
    "# 通过id知道，ll和lll是同一份数据，验证代码如下\n",
    "l[1] = 100\n",
    "print(l)\n",
    "print(ll)\n",
    "\n",
    "ll[1] = 100\n",
    "print(ll)\n",
    "print(lll)"
   ]
  }
 ],
 "metadata": {
  "kernelspec": {
   "display_name": "Python 3",
   "language": "python",
   "name": "python3"
  },
  "language_info": {
   "codemirror_mode": {
    "name": "ipython",
    "version": 3
   },
   "file_extension": ".py",
   "mimetype": "text/x-python",
   "name": "python",
   "nbconvert_exporter": "python",
   "pygments_lexer": "ipython3",
   "version": "3.6.5"
  }
 },
 "nbformat": 4,
 "nbformat_minor": 2
}
